{
  "nbformat": 4,
  "nbformat_minor": 0,
  "metadata": {
    "colab": {
      "name": "Face_Expression_Recognition3.ipynb",
      "provenance": []
    },
    "kernelspec": {
      "name": "python3",
      "display_name": "Python 3"
    },
    "accelerator": "GPU"
  },
  "cells": [
    {
      "cell_type": "code",
      "metadata": {
        "id": "v6Rc-3cGShUs",
        "colab_type": "code",
        "outputId": "11665967-4d95-4333-b365-4a7db014ef9c",
        "colab": {
          "base_uri": "https://localhost:8080/",
          "height": 463
        }
      },
      "source": [
        "!wget https://www.dropbox.com/s/56t735t8ucpcmd2/data.zip?dl=0"
      ],
      "execution_count": 0,
      "outputs": [
        {
          "output_type": "stream",
          "text": [
            "--2019-12-24 10:57:33--  https://www.dropbox.com/s/56t735t8ucpcmd2/data.zip?dl=0\n",
            "Resolving www.dropbox.com (www.dropbox.com)... 162.125.65.1, 2620:100:6021:1::a27d:4101\n",
            "Connecting to www.dropbox.com (www.dropbox.com)|162.125.65.1|:443... connected.\n",
            "HTTP request sent, awaiting response... 301 Moved Permanently\n",
            "Location: /s/raw/56t735t8ucpcmd2/data.zip [following]\n",
            "--2019-12-24 10:57:33--  https://www.dropbox.com/s/raw/56t735t8ucpcmd2/data.zip\n",
            "Reusing existing connection to www.dropbox.com:443.\n",
            "HTTP request sent, awaiting response... 302 Found\n",
            "Location: https://ucd16a4501bc2074c4f6eeb13393.dl.dropboxusercontent.com/cd/0/inline/Au08ZdjfPNRKgVZ4isWwuB_ipgr3OwqWv5XQzn5hoaro4AqIl44PbFcsl6Zk5P6TEUCR2XY8A0-J04FEvHCuywLq2wR6_hhD7ZFVyC8SXFPqyV8CWvoDyu0lWXyfpFktboE/file# [following]\n",
            "--2019-12-24 10:57:34--  https://ucd16a4501bc2074c4f6eeb13393.dl.dropboxusercontent.com/cd/0/inline/Au08ZdjfPNRKgVZ4isWwuB_ipgr3OwqWv5XQzn5hoaro4AqIl44PbFcsl6Zk5P6TEUCR2XY8A0-J04FEvHCuywLq2wR6_hhD7ZFVyC8SXFPqyV8CWvoDyu0lWXyfpFktboE/file\n",
            "Resolving ucd16a4501bc2074c4f6eeb13393.dl.dropboxusercontent.com (ucd16a4501bc2074c4f6eeb13393.dl.dropboxusercontent.com)... 162.125.65.6, 2620:100:6021:6::a27d:4106\n",
            "Connecting to ucd16a4501bc2074c4f6eeb13393.dl.dropboxusercontent.com (ucd16a4501bc2074c4f6eeb13393.dl.dropboxusercontent.com)|162.125.65.6|:443... connected.\n",
            "HTTP request sent, awaiting response... 302 FOUND\n",
            "Location: /cd/0/inline2/Au3OKaILR5kDTPaMoHOawJ1tjarVrkZUB9E2fm-EmUEtvcQ-6qYg2j4AYsYgeGzabWkinDMwWzaHzWWdSuXfmWQJhBDj4XJ7uZgz9_jvja5AMfh9Yq9yZQEn1RQSXwS0DAzMrDJpRiQfnXmim1i1E0ak9leHrWtcg5v3WzwGLpfy-tYRm_-vT352e8qh75oeQtpUgr9t3Y4O3TEAJ4kUtsKPB8QgWrZw9sYNR4CrPjYP7mYi1PGsuLpjdKaYCXHBhnewTWtIW9y0lVhfdMqcwT8fs1IHqPpJ6aGdy_wckAxyAJj30MkdAELL2FCDxU7d2TQOUwgLgst5mIN8nlGV4Q0awURlmVCZhadlO3E_Ac_Hyg/file [following]\n",
            "--2019-12-24 10:57:34--  https://ucd16a4501bc2074c4f6eeb13393.dl.dropboxusercontent.com/cd/0/inline2/Au3OKaILR5kDTPaMoHOawJ1tjarVrkZUB9E2fm-EmUEtvcQ-6qYg2j4AYsYgeGzabWkinDMwWzaHzWWdSuXfmWQJhBDj4XJ7uZgz9_jvja5AMfh9Yq9yZQEn1RQSXwS0DAzMrDJpRiQfnXmim1i1E0ak9leHrWtcg5v3WzwGLpfy-tYRm_-vT352e8qh75oeQtpUgr9t3Y4O3TEAJ4kUtsKPB8QgWrZw9sYNR4CrPjYP7mYi1PGsuLpjdKaYCXHBhnewTWtIW9y0lVhfdMqcwT8fs1IHqPpJ6aGdy_wckAxyAJj30MkdAELL2FCDxU7d2TQOUwgLgst5mIN8nlGV4Q0awURlmVCZhadlO3E_Ac_Hyg/file\n",
            "Reusing existing connection to ucd16a4501bc2074c4f6eeb13393.dl.dropboxusercontent.com:443.\n",
            "HTTP request sent, awaiting response... 200 OK\n",
            "Length: 101335954 (97M) [application/zip]\n",
            "Saving to: ‘data.zip?dl=0’\n",
            "\n",
            "data.zip?dl=0       100%[===================>]  96.64M  13.2MB/s    in 44s     \n",
            "\n",
            "2019-12-24 10:58:18 (2.22 MB/s) - ‘data.zip?dl=0’ saved [101335954/101335954]\n",
            "\n"
          ],
          "name": "stdout"
        }
      ]
    },
    {
      "cell_type": "code",
      "metadata": {
        "id": "e1Ess70iSj0t",
        "colab_type": "code",
        "outputId": "da652a33-d669-44f2-c996-abcd97b12cdd",
        "colab": {
          "base_uri": "https://localhost:8080/",
          "height": 52
        }
      },
      "source": [
        "!unzip data.zip?dl=0 "
      ],
      "execution_count": 0,
      "outputs": [
        {
          "output_type": "stream",
          "text": [
            "Archive:  data.zip?dl=0\n",
            "  inflating: fer2013 - Copy.csv      \n"
          ],
          "name": "stdout"
        }
      ]
    },
    {
      "cell_type": "code",
      "metadata": {
        "id": "-oSecKRoS8jp",
        "colab_type": "code",
        "colab": {}
      },
      "source": [
        "import pandas as pd\n",
        "import numpy as np\n",
        "import matplotlib.pyplot as plt"
      ],
      "execution_count": 0,
      "outputs": []
    },
    {
      "cell_type": "code",
      "metadata": {
        "id": "4O-p1DwmWAzZ",
        "colab_type": "code",
        "outputId": "a34d9a85-089f-4213-907e-ae5677d110c4",
        "colab": {
          "base_uri": "https://localhost:8080/",
          "height": 123
        }
      },
      "source": [
        "data=pd.read_csv('data.csv')\n",
        "print(data.head())"
      ],
      "execution_count": 0,
      "outputs": [
        {
          "output_type": "stream",
          "text": [
            "   emotion                                             pixels     Usage\n",
            "0        0  70 80 82 72 58 58 60 63 54 58 60 48 89 115 121...  Training\n",
            "1        0  151 150 147 155 148 133 111 140 170 174 182 15...  Training\n",
            "2        2  231 212 156 164 174 138 161 173 182 200 106 38...  Training\n",
            "3        4  24 32 36 30 32 23 19 20 30 41 21 22 32 34 21 1...  Training\n",
            "4        6  4 0 0 0 0 0 0 0 0 0 0 0 3 15 23 28 48 50 58 84...  Training\n"
          ],
          "name": "stdout"
        }
      ]
    },
    {
      "cell_type": "code",
      "metadata": {
        "id": "_R0gKoXGWREE",
        "colab_type": "code",
        "colab": {}
      },
      "source": [
        "X_train=data.loc[data['Usage']=='Training']"
      ],
      "execution_count": 0,
      "outputs": []
    },
    {
      "cell_type": "code",
      "metadata": {
        "id": "WSrgQWD2XkPx",
        "colab_type": "code",
        "colab": {}
      },
      "source": [
        "X_test=data.loc[data['Usage']=='PublicTest']"
      ],
      "execution_count": 0,
      "outputs": []
    },
    {
      "cell_type": "code",
      "metadata": {
        "id": "jUMW5GCaXmh7",
        "colab_type": "code",
        "outputId": "67f8cca8-fcd4-4bbe-c9ae-3471f674a584",
        "colab": {
          "base_uri": "https://localhost:8080/",
          "height": 34
        }
      },
      "source": [
        "print(X_train.shape,X_test.shape)"
      ],
      "execution_count": 0,
      "outputs": [
        {
          "output_type": "stream",
          "text": [
            "(28709, 3) (3589, 3)\n"
          ],
          "name": "stdout"
        }
      ]
    },
    {
      "cell_type": "code",
      "metadata": {
        "id": "Vhx25ezBXoYy",
        "colab_type": "code",
        "colab": {}
      },
      "source": [
        "X_train=X_train.values\n",
        "X_test=X_test.values"
      ],
      "execution_count": 0,
      "outputs": []
    },
    {
      "cell_type": "code",
      "metadata": {
        "id": "c4UnFbvWXtt3",
        "colab_type": "code",
        "colab": {}
      },
      "source": [
        "Y_train=X_train[:,0]\n",
        "Y_test=X_test[:,0]"
      ],
      "execution_count": 0,
      "outputs": []
    },
    {
      "cell_type": "code",
      "metadata": {
        "id": "zfzHsjJTXxv6",
        "colab_type": "code",
        "outputId": "eef3f39b-8745-4a12-84ca-a19cd1d2e438",
        "colab": {
          "base_uri": "https://localhost:8080/",
          "height": 34
        }
      },
      "source": [
        "X_train=X_train[:,1]\n",
        "print(X_train.shape,Y_train.shape)"
      ],
      "execution_count": 0,
      "outputs": [
        {
          "output_type": "stream",
          "text": [
            "(28709,) (28709,)\n"
          ],
          "name": "stdout"
        }
      ]
    },
    {
      "cell_type": "code",
      "metadata": {
        "id": "tQATt8mFX0fD",
        "colab_type": "code",
        "outputId": "a7a070f0-76a2-4cdf-9a0a-d5c0cdea2967",
        "colab": {
          "base_uri": "https://localhost:8080/",
          "height": 34
        }
      },
      "source": [
        "X_test=X_test[:,1]\n",
        "print(X_test.shape,Y_test.shape)"
      ],
      "execution_count": 0,
      "outputs": [
        {
          "output_type": "stream",
          "text": [
            "(3589,) (3589,)\n"
          ],
          "name": "stdout"
        }
      ]
    },
    {
      "cell_type": "code",
      "metadata": {
        "id": "aojccHp8X5Oa",
        "colab_type": "code",
        "outputId": "21e10e95-abe4-4f24-e9bc-8e70b04e2bfc",
        "colab": {
          "base_uri": "https://localhost:8080/",
          "height": 81
        }
      },
      "source": [
        "from keras.preprocessing import image"
      ],
      "execution_count": 0,
      "outputs": [
        {
          "output_type": "stream",
          "text": [
            "Using TensorFlow backend.\n"
          ],
          "name": "stderr"
        },
        {
          "output_type": "display_data",
          "data": {
            "text/html": [
              "<p style=\"color: red;\">\n",
              "The default version of TensorFlow in Colab will soon switch to TensorFlow 2.x.<br>\n",
              "We recommend you <a href=\"https://www.tensorflow.org/guide/migrate\" target=\"_blank\">upgrade</a> now \n",
              "or ensure your notebook will continue to use TensorFlow 1.x via the <code>%tensorflow_version 1.x</code> magic:\n",
              "<a href=\"https://colab.research.google.com/notebooks/tensorflow_version.ipynb\" target=\"_blank\">more info</a>.</p>\n"
            ],
            "text/plain": [
              "<IPython.core.display.HTML object>"
            ]
          },
          "metadata": {
            "tags": []
          }
        }
      ]
    },
    {
      "cell_type": "code",
      "metadata": {
        "id": "NpUsZEIdX7te",
        "colab_type": "code",
        "colab": {}
      },
      "source": [
        "def convertor(img):\n",
        "    img=np.array(img.split(' '))\n",
        "    img=img.reshape((48,48))\n",
        "    image=np.zeros((48,48,1))\n",
        "    image[:,:,0]=img\n",
        "    image[:,:,0]=img\n",
        "    image[:,:,0]=img\n",
        "    return np.array(image)   "
      ],
      "execution_count": 0,
      "outputs": []
    },
    {
      "cell_type": "code",
      "metadata": {
        "id": "UjMnZNjyX-5H",
        "colab_type": "code",
        "colab": {}
      },
      "source": [
        "# anger, disgust, fear, happiness, sadness, surprise, and neutral.\n",
        "label_dict={0:'anger',1:'disgust',2:'fear',3:'happiness',4:'sadness',5:'surprise',6:'neutral'}"
      ],
      "execution_count": 0,
      "outputs": []
    },
    {
      "cell_type": "code",
      "metadata": {
        "id": "K-42I9juYBIj",
        "colab_type": "code",
        "colab": {}
      },
      "source": [
        "def readImg(img,label):\n",
        "    plt.style.use('seaborn')\n",
        "    plt.axis('off')\n",
        "    plt.title(label)\n",
        "    plt.imshow(img)\n",
        "    #plt.legend()\n",
        "    plt.show()"
      ],
      "execution_count": 0,
      "outputs": []
    },
    {
      "cell_type": "code",
      "metadata": {
        "id": "KnHq6Xs6YDSo",
        "colab_type": "code",
        "colab": {}
      },
      "source": [
        "for i in range(X_train.shape[0]):\n",
        "    X_train[i]=convertor(X_train[i])"
      ],
      "execution_count": 0,
      "outputs": []
    },
    {
      "cell_type": "code",
      "metadata": {
        "id": "4BTQ6UTNYHOP",
        "colab_type": "code",
        "outputId": "741bef41-c41c-496a-abe2-33d26a5ff9f2",
        "colab": {
          "base_uri": "https://localhost:8080/",
          "height": 34
        }
      },
      "source": [
        "print(X_train[100].shape)\n",
        "#readImg(X_train[100],label_dict[Y_train[100]])"
      ],
      "execution_count": 0,
      "outputs": [
        {
          "output_type": "stream",
          "text": [
            "(48, 48, 1)\n"
          ],
          "name": "stdout"
        }
      ]
    },
    {
      "cell_type": "code",
      "metadata": {
        "id": "fzcYKY_EYTUd",
        "colab_type": "code",
        "outputId": "69d736f2-3691-49a9-c2c6-745ca33270f6",
        "colab": {
          "base_uri": "https://localhost:8080/",
          "height": 344
        }
      },
      "source": [
        "readImg(X_train[10]/255.0,label_dict[Y_train[10]])"
      ],
      "execution_count": 0,
      "outputs": [
        {
          "output_type": "display_data",
          "data": {
            "image/png": "[encoded data removed]",
            "text/plain": [
              "<Figure size 576x396 with 1 Axes>"
            ]
          },
          "metadata": {
            "tags": []
          }
        }
      ]
    },
    {
      "cell_type": "code",
      "metadata": {
        "id": "2tqel6ybZBKa",
        "colab_type": "code",
        "outputId": "0e4a3e2f-804c-4786-c09c-a019ae7e50e5",
        "colab": {
          "base_uri": "https://localhost:8080/",
          "height": 344
        }
      },
      "source": [
        "readImg(X_train[200]/255.0,label_dict[Y_train[200]])"
      ],
      "execution_count": 0,
      "outputs": [
        {
          "output_type": "display_data",
          "data": {
            "image/png": "[encoded data removed]",
            "text/plain": [
              "<Figure size 576x396 with 1 Axes>"
            ]
          },
          "metadata": {
            "tags": []
          }
        }
      ]
    },
    {
      "cell_type": "code",
      "metadata": {
        "id": "wSmqdYqQZEpg",
        "colab_type": "code",
        "outputId": "399cc17c-6b5b-44ee-bf10-35edceddd766",
        "colab": {
          "base_uri": "https://localhost:8080/",
          "height": 344
        }
      },
      "source": [
        "readImg(X_train[350]/255.0,label_dict[Y_train[350]])"
      ],
      "execution_count": 0,
      "outputs": [
        {
          "output_type": "display_data",
          "data": {
            "image/png": "[encoded data removed]",
            "text/plain": [
              "<Figure size 576x396 with 1 Axes>"
            ]
          },
          "metadata": {
            "tags": []
          }
        }
      ]
    },
    {
      "cell_type": "code",
      "metadata": {
        "id": "2TyUfVjvZHcQ",
        "colab_type": "code",
        "colab": {}
      },
      "source": [
        "from keras.models import Sequential\n",
        "from keras.layers import *\n",
        "from keras.optimizers import Adam"
      ],
      "execution_count": 0,
      "outputs": []
    },
    {
      "cell_type": "code",
      "metadata": {
        "id": "KD4ylofhZKHi",
        "colab_type": "code",
        "outputId": "d09f6b33-bce4-40d9-c54e-954203f686bb",
        "colab": {
          "base_uri": "https://localhost:8080/",
          "height": 72
        }
      },
      "source": [
        "model=Sequential()"
      ],
      "execution_count": 0,
      "outputs": [
        {
          "output_type": "stream",
          "text": [
            "WARNING:tensorflow:From /usr/local/lib/python3.6/dist-packages/keras/backend/tensorflow_backend.py:66: The name tf.get_default_graph is deprecated. Please use tf.compat.v1.get_default_graph instead.\n",
            "\n"
          ],
          "name": "stdout"
        }
      ]
    },
    {
      "cell_type": "code",
      "metadata": {
        "id": "zn4qyATy3X2B",
        "colab_type": "code",
        "colab": {}
      },
      "source": [
        ""
      ],
      "execution_count": 0,
      "outputs": []
    },
    {
      "cell_type": "code",
      "metadata": {
        "id": "qDt9VLncZMOh",
        "colab_type": "code",
        "outputId": "d742dbc1-6ad5-49b3-8ff4-0ede16644a72",
        "colab": {
          "base_uri": "https://localhost:8080/",
          "height": 1000
        }
      },
      "source": [
        "import warnings\n",
        "warnings.filterwarnings('ignore')\n",
        "# adding Ist Convolutional layer\n",
        "model.add(Conv2D(64,(3,3),activation='relu',input_shape=(48,48,1),padding='same'))\n",
        "#model.add(MaxPooling2D((2,2)))\n",
        "model.add(MaxPooling2D(pool_size=(2, 2), dim_ordering=\"th\",padding='same'))\n",
        "model.add(Dropout(0.25))\n",
        "# adding second convolutional layer\n",
        "model.add(Conv2D(128,(5,5),activation='relu',padding='same'))\n",
        "#model.add(MaxPooling2D((2,2)))\n",
        "model.add(MaxPooling2D(pool_size=(2, 2), dim_ordering=\"th\",padding='same'))\n",
        "model.add(Dropout(0.25))\n",
        "# adding third convolutional layer\n",
        "model.add(Conv2D(512,(3,3),activation='relu',padding='same'))\n",
        "#model.add(MaxPooling2D((2,2)))\n",
        "model.add(MaxPooling2D(pool_size=(2, 2), dim_ordering=\"th\",padding='same'))\n",
        "model.add(Dropout(0.25))\n",
        "\n",
        "model.add(Conv2D(512,(3,3),activation='relu',padding='same'))\n",
        "#model.add(MaxPooling2D((2,2)))\n",
        "model.add(MaxPooling2D(pool_size=(2, 2), dim_ordering=\"th\",padding='same'))\n",
        "model.add(Dropout(0.25))\n",
        "\n",
        "model.add(Conv2D(512,(3,3),activation='relu',padding='same'))\n",
        "#model.add(MaxPooling2D((2,2)))\n",
        "model.add(MaxPooling2D(pool_size=(2, 2), dim_ordering=\"th\",padding='same'))\n",
        "model.add(Dropout(0.25))\n",
        "# flattening\n",
        "model.add(Flatten())\n",
        "# adding dense layers\n",
        "model.add(Dense(256,activation='relu'))\n",
        "model.add(Dropout(0.25))\n",
        "model.add(Dense(512,activation='relu'))\n",
        "model.add(Dropout(0.25))\n",
        "model.add(Dense(7,activation='softmax'))\n",
        "model.summary()"
      ],
      "execution_count": 0,
      "outputs": [
        {
          "output_type": "stream",
          "text": [
            "WARNING:tensorflow:From /usr/local/lib/python3.6/dist-packages/keras/backend/tensorflow_backend.py:541: The name tf.placeholder is deprecated. Please use tf.compat.v1.placeholder instead.\n",
            "\n",
            "WARNING:tensorflow:From /usr/local/lib/python3.6/dist-packages/keras/backend/tensorflow_backend.py:4432: The name tf.random_uniform is deprecated. Please use tf.random.uniform instead.\n",
            "\n",
            "WARNING:tensorflow:From /usr/local/lib/python3.6/dist-packages/keras/backend/tensorflow_backend.py:190: The name tf.get_default_session is deprecated. Please use tf.compat.v1.get_default_session instead.\n",
            "\n",
            "WARNING:tensorflow:From /usr/local/lib/python3.6/dist-packages/keras/backend/tensorflow_backend.py:197: The name tf.ConfigProto is deprecated. Please use tf.compat.v1.ConfigProto instead.\n",
            "\n",
            "WARNING:tensorflow:From /usr/local/lib/python3.6/dist-packages/keras/backend/tensorflow_backend.py:203: The name tf.Session is deprecated. Please use tf.compat.v1.Session instead.\n",
            "\n",
            "WARNING:tensorflow:From /usr/local/lib/python3.6/dist-packages/keras/backend/tensorflow_backend.py:207: The name tf.global_variables is deprecated. Please use tf.compat.v1.global_variables instead.\n",
            "\n",
            "WARNING:tensorflow:From /usr/local/lib/python3.6/dist-packages/keras/backend/tensorflow_backend.py:216: The name tf.is_variable_initialized is deprecated. Please use tf.compat.v1.is_variable_initialized instead.\n",
            "\n",
            "WARNING:tensorflow:From /usr/local/lib/python3.6/dist-packages/keras/backend/tensorflow_backend.py:223: The name tf.variables_initializer is deprecated. Please use tf.compat.v1.variables_initializer instead.\n",
            "\n",
            "WARNING:tensorflow:From /usr/local/lib/python3.6/dist-packages/keras/backend/tensorflow_backend.py:4267: The name tf.nn.max_pool is deprecated. Please use tf.nn.max_pool2d instead.\n",
            "\n",
            "WARNING:tensorflow:From /usr/local/lib/python3.6/dist-packages/keras/backend/tensorflow_backend.py:148: The name tf.placeholder_with_default is deprecated. Please use tf.compat.v1.placeholder_with_default instead.\n",
            "\n",
            "WARNING:tensorflow:From /usr/local/lib/python3.6/dist-packages/keras/backend/tensorflow_backend.py:3733: calling dropout (from tensorflow.python.ops.nn_ops) with keep_prob is deprecated and will be removed in a future version.\n",
            "Instructions for updating:\n",
            "Please use `rate` instead of `keep_prob`. Rate should be set to `rate = 1 - keep_prob`.\n",
            "Model: \"sequential_1\"\n",
            "_________________________________________________________________\n",
            "Layer (type)                 Output Shape              Param #   \n",
            "=================================================================\n",
            "conv2d_1 (Conv2D)            (None, 48, 48, 64)        640       \n",
            "_________________________________________________________________\n",
            "max_pooling2d_1 (MaxPooling2 (None, 48, 24, 32)        0         \n",
            "_________________________________________________________________\n",
            "dropout_1 (Dropout)          (None, 48, 24, 32)        0         \n",
            "_________________________________________________________________\n",
            "conv2d_2 (Conv2D)            (None, 48, 24, 128)       102528    \n",
            "_________________________________________________________________\n",
            "max_pooling2d_2 (MaxPooling2 (None, 48, 12, 64)        0         \n",
            "_________________________________________________________________\n",
            "dropout_2 (Dropout)          (None, 48, 12, 64)        0         \n",
            "_________________________________________________________________\n",
            "conv2d_3 (Conv2D)            (None, 48, 12, 512)       295424    \n",
            "_________________________________________________________________\n",
            "max_pooling2d_3 (MaxPooling2 (None, 48, 6, 256)        0         \n",
            "_________________________________________________________________\n",
            "dropout_3 (Dropout)          (None, 48, 6, 256)        0         \n",
            "_________________________________________________________________\n",
            "conv2d_4 (Conv2D)            (None, 48, 6, 512)        1180160   \n",
            "_________________________________________________________________\n",
            "max_pooling2d_4 (MaxPooling2 (None, 48, 3, 256)        0         \n",
            "_________________________________________________________________\n",
            "dropout_4 (Dropout)          (None, 48, 3, 256)        0         \n",
            "_________________________________________________________________\n",
            "conv2d_5 (Conv2D)            (None, 48, 3, 512)        1180160   \n",
            "_________________________________________________________________\n",
            "max_pooling2d_5 (MaxPooling2 (None, 48, 2, 256)        0         \n",
            "_________________________________________________________________\n",
            "dropout_5 (Dropout)          (None, 48, 2, 256)        0         \n",
            "_________________________________________________________________\n",
            "flatten_1 (Flatten)          (None, 24576)             0         \n",
            "_________________________________________________________________\n",
            "dense_1 (Dense)              (None, 256)               6291712   \n",
            "_________________________________________________________________\n",
            "dropout_6 (Dropout)          (None, 256)               0         \n",
            "_________________________________________________________________\n",
            "dense_2 (Dense)              (None, 512)               131584    \n",
            "_________________________________________________________________\n",
            "dropout_7 (Dropout)          (None, 512)               0         \n",
            "_________________________________________________________________\n",
            "dense_3 (Dense)              (None, 7)                 3591      \n",
            "=================================================================\n",
            "Total params: 9,185,799\n",
            "Trainable params: 9,185,799\n",
            "Non-trainable params: 0\n",
            "_________________________________________________________________\n"
          ],
          "name": "stdout"
        }
      ]
    },
    {
      "cell_type": "code",
      "metadata": {
        "id": "b7HO2x3wZVAC",
        "colab_type": "code",
        "colab": {}
      },
      "source": [
        "adam=Adam(lr=0.0001)"
      ],
      "execution_count": 0,
      "outputs": []
    },
    {
      "cell_type": "code",
      "metadata": {
        "id": "h-ZSWhSDZaNJ",
        "colab_type": "code",
        "outputId": "88fd4cab-a53c-4729-de03-9301bc28df9f",
        "colab": {
          "base_uri": "https://localhost:8080/",
          "height": 107
        }
      },
      "source": [
        "model.compile(optimizer=adam,loss='categorical_crossentropy',metrics=['acc'])"
      ],
      "execution_count": 0,
      "outputs": [
        {
          "output_type": "stream",
          "text": [
            "WARNING:tensorflow:From /usr/local/lib/python3.6/dist-packages/keras/optimizers.py:793: The name tf.train.Optimizer is deprecated. Please use tf.compat.v1.train.Optimizer instead.\n",
            "\n",
            "WARNING:tensorflow:From /usr/local/lib/python3.6/dist-packages/keras/backend/tensorflow_backend.py:3576: The name tf.log is deprecated. Please use tf.math.log instead.\n",
            "\n"
          ],
          "name": "stdout"
        }
      ]
    },
    {
      "cell_type": "code",
      "metadata": {
        "id": "TDhvR9CAZeHC",
        "colab_type": "code",
        "colab": {}
      },
      "source": [
        "from keras.utils import np_utils\n",
        "Y_train=np_utils.to_categorical(Y_train)\n",
        "Y_test=np_utils.to_categorical(Y_test)"
      ],
      "execution_count": 0,
      "outputs": []
    },
    {
      "cell_type": "code",
      "metadata": {
        "id": "xp7L8F-4Zg7l",
        "colab_type": "code",
        "colab": {}
      },
      "source": [
        "from keras.callbacks import ModelCheckpoint,EarlyStopping\n",
        "checkpoint=ModelCheckpoint('best_model.h5',save_best_only=True,mode=max,verbose=1,monitor='val_loss')\n",
        "early_stop=EarlyStopping(monitor='val_loss',patience=10,verbose=1,mode='min',restore_best_weights=True)\n",
        "callback=[checkpoint,early_stop]"
      ],
      "execution_count": 0,
      "outputs": []
    },
    {
      "cell_type": "code",
      "metadata": {
        "id": "wZld0UZHZjLH",
        "colab_type": "code",
        "colab": {}
      },
      "source": [
        "X_trains=[]\n",
        "for i in range(X_train.shape[0]):\n",
        "    X_trains.append(X_train[i])"
      ],
      "execution_count": 0,
      "outputs": []
    },
    {
      "cell_type": "code",
      "metadata": {
        "id": "_4tsrEW_Zl_q",
        "colab_type": "code",
        "outputId": "67458e75-9660-4d87-8c81-dde63d7a29db",
        "colab": {
          "base_uri": "https://localhost:8080/",
          "height": 34
        }
      },
      "source": [
        "X_trains=np.array(X_trains)\n",
        "print(X_trains.shape)"
      ],
      "execution_count": 0,
      "outputs": [
        {
          "output_type": "stream",
          "text": [
            "(28709, 48, 48, 1)\n"
          ],
          "name": "stdout"
        }
      ]
    },
    {
      "cell_type": "code",
      "metadata": {
        "id": "ankbZf5SZo_6",
        "colab_type": "code",
        "colab": {}
      },
      "source": [
        "for i in range(X_test.shape[0]):\n",
        "    X_test[i]=convertor(X_test[i])"
      ],
      "execution_count": 0,
      "outputs": []
    },
    {
      "cell_type": "code",
      "metadata": {
        "id": "-rhNfB4jZs-C",
        "colab_type": "code",
        "colab": {}
      },
      "source": [
        "X_tests=[]\n",
        "for i in range(X_test.shape[0]):\n",
        "    X_tests.append(X_test[i])"
      ],
      "execution_count": 0,
      "outputs": []
    },
    {
      "cell_type": "code",
      "metadata": {
        "id": "aRX_IqMJZwVx",
        "colab_type": "code",
        "outputId": "f589c77e-ace7-4972-98e4-15de261b5440",
        "colab": {
          "base_uri": "https://localhost:8080/",
          "height": 34
        }
      },
      "source": [
        "X_tests=np.array(X_tests)\n",
        "print(X_tests.shape)"
      ],
      "execution_count": 0,
      "outputs": [
        {
          "output_type": "stream",
          "text": [
            "(3589, 48, 48, 1)\n"
          ],
          "name": "stdout"
        }
      ]
    },
    {
      "cell_type": "code",
      "metadata": {
        "id": "cB5A9pgFZzdk",
        "colab_type": "code",
        "colab": {}
      },
      "source": [
        "#history=model.fit(X_trains,Y_train,validation_split=0.2,batch_size=128,epochs=100,shuffle=True,callbacks=callback)"
      ],
      "execution_count": 0,
      "outputs": []
    },
    {
      "cell_type": "code",
      "metadata": {
        "id": "3p36ejglZ2k5",
        "colab_type": "code",
        "colab": {}
      },
      "source": [
        "data_gen=image.ImageDataGenerator(width_shift_range=0.2,height_shift_range=0.2,zoom_range=0.2,rotation_range=30,\n",
        "                                  horizontal_flip=True,fill_mode='nearest')"
      ],
      "execution_count": 0,
      "outputs": []
    },
    {
      "cell_type": "code",
      "metadata": {
        "id": "f6avzHT6dNuZ",
        "colab_type": "code",
        "colab": {}
      },
      "source": [
        "train_generator=data_gen.fit(X_trains)"
      ],
      "execution_count": 0,
      "outputs": []
    },
    {
      "cell_type": "code",
      "metadata": {
        "id": "ru_6T0r0dQMI",
        "colab_type": "code",
        "colab": {}
      },
      "source": [
        "validation_generator=data_gen.fit(X_tests)"
      ],
      "execution_count": 0,
      "outputs": []
    },
    {
      "cell_type": "code",
      "metadata": {
        "id": "_QwC6w8hdZiS",
        "colab_type": "code",
        "outputId": "b9472135-d4f9-4c26-cf42-5f3f8000439f",
        "colab": {
          "base_uri": "https://localhost:8080/",
          "height": 1000
        }
      },
      "source": [
        "hist=model.fit_generator(data_gen.flow(X_trains,Y_train,batch_size=128),steps_per_epoch=X_trains.shape[0]//128,\n",
        "                         validation_data=(X_tests,Y_test),\n",
        "                         epochs=200,callbacks=callback)"
      ],
      "execution_count": 0,
      "outputs": [
        {
          "output_type": "stream",
          "text": [
            "WARNING:tensorflow:From /usr/local/lib/python3.6/dist-packages/tensorflow_core/python/ops/math_grad.py:1424: where (from tensorflow.python.ops.array_ops) is deprecated and will be removed in a future version.\n",
            "Instructions for updating:\n",
            "Use tf.where in 2.0, which has the same broadcast rule as np.where\n",
            "WARNING:tensorflow:From /usr/local/lib/python3.6/dist-packages/keras/backend/tensorflow_backend.py:1033: The name tf.assign_add is deprecated. Please use tf.compat.v1.assign_add instead.\n",
            "\n",
            "WARNING:tensorflow:From /usr/local/lib/python3.6/dist-packages/keras/backend/tensorflow_backend.py:1020: The name tf.assign is deprecated. Please use tf.compat.v1.assign instead.\n",
            "\n",
            "Epoch 1/200\n",
            "224/224 [==============================] - 25s 109ms/step - loss: 3.1409 - acc: 0.2230 - val_loss: 1.9076 - val_acc: 0.2494\n",
            "\n",
            "Epoch 00001: val_loss improved from inf to 1.90758, saving model to best_model.h5\n",
            "Epoch 2/200\n",
            "224/224 [==============================] - 17s 74ms/step - loss: 1.8312 - acc: 0.2411 - val_loss: 1.8974 - val_acc: 0.2494\n",
            "\n",
            "Epoch 00002: val_loss improved from 1.90758 to 1.89737, saving model to best_model.h5\n",
            "Epoch 3/200\n",
            "224/224 [==============================] - 17s 74ms/step - loss: 1.8231 - acc: 0.2500 - val_loss: 1.8613 - val_acc: 0.2494\n",
            "\n",
            "Epoch 00003: val_loss improved from 1.89737 to 1.86132, saving model to best_model.h5\n",
            "Epoch 4/200\n",
            "224/224 [==============================] - 17s 75ms/step - loss: 1.8150 - acc: 0.2489 - val_loss: 1.8490 - val_acc: 0.2524\n",
            "\n",
            "Epoch 00004: val_loss improved from 1.86132 to 1.84902, saving model to best_model.h5\n",
            "Epoch 5/200\n",
            "224/224 [==============================] - 17s 74ms/step - loss: 1.8101 - acc: 0.2535 - val_loss: 1.8288 - val_acc: 0.2580\n",
            "\n",
            "Epoch 00005: val_loss improved from 1.84902 to 1.82876, saving model to best_model.h5\n",
            "Epoch 6/200\n",
            "224/224 [==============================] - 17s 74ms/step - loss: 1.8070 - acc: 0.2520 - val_loss: 1.8193 - val_acc: 0.2555\n",
            "\n",
            "Epoch 00006: val_loss improved from 1.82876 to 1.81927, saving model to best_model.h5\n",
            "Epoch 7/200\n",
            "224/224 [==============================] - 17s 74ms/step - loss: 1.7991 - acc: 0.2579 - val_loss: 1.8067 - val_acc: 0.2641\n",
            "\n",
            "Epoch 00007: val_loss improved from 1.81927 to 1.80671, saving model to best_model.h5\n",
            "Epoch 8/200\n",
            "224/224 [==============================] - 17s 74ms/step - loss: 1.7961 - acc: 0.2572 - val_loss: 1.8098 - val_acc: 0.2717\n",
            "\n",
            "Epoch 00008: val_loss did not improve from 1.80671\n",
            "Epoch 9/200\n",
            "224/224 [==============================] - 17s 74ms/step - loss: 1.7896 - acc: 0.2581 - val_loss: 1.7925 - val_acc: 0.2694\n",
            "\n",
            "Epoch 00009: val_loss improved from 1.80671 to 1.79246, saving model to best_model.h5\n",
            "Epoch 10/200\n",
            "224/224 [==============================] - 17s 74ms/step - loss: 1.7843 - acc: 0.2604 - val_loss: 1.8054 - val_acc: 0.2744\n",
            "\n",
            "Epoch 00010: val_loss did not improve from 1.79246\n",
            "Epoch 11/200\n",
            "224/224 [==============================] - 16s 74ms/step - loss: 1.7800 - acc: 0.2616 - val_loss: 1.8439 - val_acc: 0.2747\n",
            "\n",
            "Epoch 00011: val_loss did not improve from 1.79246\n",
            "Epoch 12/200\n",
            "224/224 [==============================] - 16s 73ms/step - loss: 1.7755 - acc: 0.2635 - val_loss: 1.7853 - val_acc: 0.2781\n",
            "\n",
            "Epoch 00012: val_loss improved from 1.79246 to 1.78530, saving model to best_model.h5\n",
            "Epoch 13/200\n",
            "224/224 [==============================] - 17s 74ms/step - loss: 1.7685 - acc: 0.2702 - val_loss: 1.7954 - val_acc: 0.2586\n",
            "\n",
            "Epoch 00013: val_loss did not improve from 1.78530\n",
            "Epoch 14/200\n",
            "224/224 [==============================] - 16s 73ms/step - loss: 1.7622 - acc: 0.2723 - val_loss: 1.7860 - val_acc: 0.2527\n",
            "\n",
            "Epoch 00014: val_loss did not improve from 1.78530\n",
            "Epoch 15/200\n",
            "224/224 [==============================] - 17s 74ms/step - loss: 1.7572 - acc: 0.2751 - val_loss: 1.7353 - val_acc: 0.3048\n",
            "\n",
            "Epoch 00015: val_loss improved from 1.78530 to 1.73530, saving model to best_model.h5\n",
            "Epoch 16/200\n",
            "224/224 [==============================] - 16s 74ms/step - loss: 1.7511 - acc: 0.2777 - val_loss: 1.7297 - val_acc: 0.2926\n",
            "\n",
            "Epoch 00016: val_loss improved from 1.73530 to 1.72968, saving model to best_model.h5\n",
            "Epoch 17/200\n",
            "224/224 [==============================] - 17s 74ms/step - loss: 1.7502 - acc: 0.2785 - val_loss: 1.7464 - val_acc: 0.2591\n",
            "\n",
            "Epoch 00017: val_loss did not improve from 1.72968\n",
            "Epoch 18/200\n",
            "224/224 [==============================] - 17s 74ms/step - loss: 1.7491 - acc: 0.2804 - val_loss: 1.7242 - val_acc: 0.2970\n",
            "\n",
            "Epoch 00018: val_loss improved from 1.72968 to 1.72419, saving model to best_model.h5\n",
            "Epoch 19/200\n",
            "224/224 [==============================] - 17s 74ms/step - loss: 1.7388 - acc: 0.2856 - val_loss: 1.7015 - val_acc: 0.3107\n",
            "\n",
            "Epoch 00019: val_loss improved from 1.72419 to 1.70146, saving model to best_model.h5\n",
            "Epoch 20/200\n",
            "224/224 [==============================] - 17s 74ms/step - loss: 1.7368 - acc: 0.2882 - val_loss: 1.7061 - val_acc: 0.3037\n",
            "\n",
            "Epoch 00020: val_loss did not improve from 1.70146\n",
            "Epoch 21/200\n",
            "224/224 [==============================] - 17s 74ms/step - loss: 1.7343 - acc: 0.2893 - val_loss: 1.6825 - val_acc: 0.3110\n",
            "\n",
            "Epoch 00021: val_loss improved from 1.70146 to 1.68250, saving model to best_model.h5\n",
            "Epoch 22/200\n",
            "224/224 [==============================] - 17s 74ms/step - loss: 1.7225 - acc: 0.2945 - val_loss: 1.6892 - val_acc: 0.3029\n",
            "\n",
            "Epoch 00022: val_loss did not improve from 1.68250\n",
            "Epoch 23/200\n",
            "224/224 [==============================] - 17s 74ms/step - loss: 1.7215 - acc: 0.2930 - val_loss: 1.6591 - val_acc: 0.3263\n",
            "\n",
            "Epoch 00023: val_loss improved from 1.68250 to 1.65909, saving model to best_model.h5\n",
            "Epoch 24/200\n",
            "224/224 [==============================] - 17s 74ms/step - loss: 1.7080 - acc: 0.3050 - val_loss: 1.6201 - val_acc: 0.3608\n",
            "\n",
            "Epoch 00024: val_loss improved from 1.65909 to 1.62014, saving model to best_model.h5\n",
            "Epoch 25/200\n",
            "224/224 [==============================] - 17s 74ms/step - loss: 1.6984 - acc: 0.3105 - val_loss: 1.5936 - val_acc: 0.3742\n",
            "\n",
            "Epoch 00025: val_loss improved from 1.62014 to 1.59358, saving model to best_model.h5\n",
            "Epoch 26/200\n",
            "224/224 [==============================] - 17s 74ms/step - loss: 1.6828 - acc: 0.3238 - val_loss: 1.5782 - val_acc: 0.3717\n",
            "\n",
            "Epoch 00026: val_loss improved from 1.59358 to 1.57821, saving model to best_model.h5\n",
            "Epoch 27/200\n",
            "224/224 [==============================] - 17s 74ms/step - loss: 1.6699 - acc: 0.3323 - val_loss: 1.5832 - val_acc: 0.3912\n",
            "\n",
            "Epoch 00027: val_loss did not improve from 1.57821\n",
            "Epoch 28/200\n",
            "224/224 [==============================] - 16s 74ms/step - loss: 1.6519 - acc: 0.3428 - val_loss: 1.4951 - val_acc: 0.4246\n",
            "\n",
            "Epoch 00028: val_loss improved from 1.57821 to 1.49510, saving model to best_model.h5\n",
            "Epoch 29/200\n",
            "224/224 [==============================] - 17s 74ms/step - loss: 1.6238 - acc: 0.3572 - val_loss: 1.4589 - val_acc: 0.4461\n",
            "\n",
            "Epoch 00029: val_loss improved from 1.49510 to 1.45887, saving model to best_model.h5\n",
            "Epoch 30/200\n",
            "224/224 [==============================] - 17s 74ms/step - loss: 1.5917 - acc: 0.3763 - val_loss: 1.4138 - val_acc: 0.4617\n",
            "\n",
            "Epoch 00030: val_loss improved from 1.45887 to 1.41375, saving model to best_model.h5\n",
            "Epoch 31/200\n",
            "224/224 [==============================] - 17s 74ms/step - loss: 1.5641 - acc: 0.3888 - val_loss: 1.3644 - val_acc: 0.4748\n",
            "\n",
            "Epoch 00031: val_loss improved from 1.41375 to 1.36445, saving model to best_model.h5\n",
            "Epoch 32/200\n",
            "224/224 [==============================] - 17s 74ms/step - loss: 1.5333 - acc: 0.4029 - val_loss: 1.3666 - val_acc: 0.4767\n",
            "\n",
            "Epoch 00032: val_loss did not improve from 1.36445\n",
            "Epoch 33/200\n",
            "224/224 [==============================] - 16s 74ms/step - loss: 1.5065 - acc: 0.4183 - val_loss: 1.3321 - val_acc: 0.4831\n",
            "\n",
            "Epoch 00033: val_loss improved from 1.36445 to 1.33214, saving model to best_model.h5\n",
            "Epoch 34/200\n",
            "224/224 [==============================] - 17s 74ms/step - loss: 1.4889 - acc: 0.4246 - val_loss: 1.3072 - val_acc: 0.5001\n",
            "\n",
            "Epoch 00034: val_loss improved from 1.33214 to 1.30715, saving model to best_model.h5\n",
            "Epoch 35/200\n",
            "224/224 [==============================] - 17s 74ms/step - loss: 1.4698 - acc: 0.4340 - val_loss: 1.3084 - val_acc: 0.4960\n",
            "\n",
            "Epoch 00035: val_loss did not improve from 1.30715\n",
            "Epoch 36/200\n",
            "224/224 [==============================] - 17s 74ms/step - loss: 1.4486 - acc: 0.4406 - val_loss: 1.2768 - val_acc: 0.5035\n",
            "\n",
            "Epoch 00036: val_loss improved from 1.30715 to 1.27684, saving model to best_model.h5\n",
            "Epoch 37/200\n",
            "224/224 [==============================] - 17s 74ms/step - loss: 1.4314 - acc: 0.4524 - val_loss: 1.2845 - val_acc: 0.5107\n",
            "\n",
            "Epoch 00037: val_loss did not improve from 1.27684\n",
            "Epoch 38/200\n",
            "224/224 [==============================] - 17s 74ms/step - loss: 1.4285 - acc: 0.4523 - val_loss: 1.2374 - val_acc: 0.5185\n",
            "\n",
            "Epoch 00038: val_loss improved from 1.27684 to 1.23736, saving model to best_model.h5\n",
            "Epoch 39/200\n",
            "224/224 [==============================] - 17s 74ms/step - loss: 1.4075 - acc: 0.4633 - val_loss: 1.2450 - val_acc: 0.5230\n",
            "\n",
            "Epoch 00039: val_loss did not improve from 1.23736\n",
            "Epoch 40/200\n",
            "224/224 [==============================] - 17s 74ms/step - loss: 1.3985 - acc: 0.4628 - val_loss: 1.2541 - val_acc: 0.5149\n",
            "\n",
            "Epoch 00040: val_loss did not improve from 1.23736\n",
            "Epoch 41/200\n",
            "224/224 [==============================] - 17s 74ms/step - loss: 1.3827 - acc: 0.4690 - val_loss: 1.2235 - val_acc: 0.5302\n",
            "\n",
            "Epoch 00041: val_loss improved from 1.23736 to 1.22355, saving model to best_model.h5\n",
            "Epoch 42/200\n",
            "224/224 [==============================] - 17s 74ms/step - loss: 1.3768 - acc: 0.4752 - val_loss: 1.2225 - val_acc: 0.5291\n",
            "\n",
            "Epoch 00042: val_loss improved from 1.22355 to 1.22254, saving model to best_model.h5\n",
            "Epoch 43/200\n",
            "224/224 [==============================] - 17s 74ms/step - loss: 1.3582 - acc: 0.4800 - val_loss: 1.2017 - val_acc: 0.5419\n",
            "\n",
            "Epoch 00043: val_loss improved from 1.22254 to 1.20169, saving model to best_model.h5\n",
            "Epoch 44/200\n",
            "224/224 [==============================] - 16s 73ms/step - loss: 1.3574 - acc: 0.4845 - val_loss: 1.2082 - val_acc: 0.5355\n",
            "\n",
            "Epoch 00044: val_loss did not improve from 1.20169\n",
            "Epoch 45/200\n",
            "224/224 [==============================] - 17s 74ms/step - loss: 1.3358 - acc: 0.4878 - val_loss: 1.1919 - val_acc: 0.5369\n",
            "\n",
            "Epoch 00045: val_loss improved from 1.20169 to 1.19189, saving model to best_model.h5\n",
            "Epoch 46/200\n",
            "224/224 [==============================] - 16s 74ms/step - loss: 1.3360 - acc: 0.4910 - val_loss: 1.1754 - val_acc: 0.5400\n",
            "\n",
            "Epoch 00046: val_loss improved from 1.19189 to 1.17540, saving model to best_model.h5\n",
            "Epoch 47/200\n",
            "224/224 [==============================] - 17s 74ms/step - loss: 1.3294 - acc: 0.4950 - val_loss: 1.1742 - val_acc: 0.5517\n",
            "\n",
            "Epoch 00047: val_loss improved from 1.17540 to 1.17421, saving model to best_model.h5\n",
            "Epoch 48/200\n",
            "224/224 [==============================] - 17s 74ms/step - loss: 1.3180 - acc: 0.4972 - val_loss: 1.2059 - val_acc: 0.5327\n",
            "\n",
            "Epoch 00048: val_loss did not improve from 1.17421\n",
            "Epoch 49/200\n",
            "224/224 [==============================] - 17s 74ms/step - loss: 1.3080 - acc: 0.5018 - val_loss: 1.1654 - val_acc: 0.5528\n",
            "\n",
            "Epoch 00049: val_loss improved from 1.17421 to 1.16539, saving model to best_model.h5\n",
            "Epoch 50/200\n",
            "224/224 [==============================] - 17s 74ms/step - loss: 1.3044 - acc: 0.5020 - val_loss: 1.1626 - val_acc: 0.5553\n",
            "\n",
            "Epoch 00050: val_loss improved from 1.16539 to 1.16265, saving model to best_model.h5\n",
            "Epoch 51/200\n",
            "224/224 [==============================] - 17s 74ms/step - loss: 1.3006 - acc: 0.5067 - val_loss: 1.1395 - val_acc: 0.5651\n",
            "\n",
            "Epoch 00051: val_loss improved from 1.16265 to 1.13946, saving model to best_model.h5\n",
            "Epoch 52/200\n",
            "224/224 [==============================] - 17s 74ms/step - loss: 1.2894 - acc: 0.5108 - val_loss: 1.1495 - val_acc: 0.5614\n",
            "\n",
            "Epoch 00052: val_loss did not improve from 1.13946\n",
            "Epoch 53/200\n",
            "224/224 [==============================] - 17s 74ms/step - loss: 1.2835 - acc: 0.5135 - val_loss: 1.1314 - val_acc: 0.5676\n",
            "\n",
            "Epoch 00053: val_loss improved from 1.13946 to 1.13144, saving model to best_model.h5\n",
            "Epoch 54/200\n",
            "224/224 [==============================] - 17s 74ms/step - loss: 1.2694 - acc: 0.5157 - val_loss: 1.1558 - val_acc: 0.5584\n",
            "\n",
            "Epoch 00054: val_loss did not improve from 1.13144\n",
            "Epoch 55/200\n",
            "224/224 [==============================] - 17s 74ms/step - loss: 1.2699 - acc: 0.5194 - val_loss: 1.1265 - val_acc: 0.5667\n",
            "\n",
            "Epoch 00055: val_loss improved from 1.13144 to 1.12647, saving model to best_model.h5\n",
            "Epoch 56/200\n",
            "224/224 [==============================] - 17s 74ms/step - loss: 1.2681 - acc: 0.5182 - val_loss: 1.1114 - val_acc: 0.5731\n",
            "\n",
            "Epoch 00056: val_loss improved from 1.12647 to 1.11141, saving model to best_model.h5\n",
            "Epoch 57/200\n",
            "224/224 [==============================] - 17s 74ms/step - loss: 1.2553 - acc: 0.5210 - val_loss: 1.1146 - val_acc: 0.5737\n",
            "\n",
            "Epoch 00057: val_loss did not improve from 1.11141\n",
            "Epoch 58/200\n",
            "224/224 [==============================] - 17s 74ms/step - loss: 1.2525 - acc: 0.5228 - val_loss: 1.1155 - val_acc: 0.5656\n",
            "\n",
            "Epoch 00058: val_loss did not improve from 1.11141\n",
            "Epoch 59/200\n",
            "224/224 [==============================] - 17s 74ms/step - loss: 1.2481 - acc: 0.5267 - val_loss: 1.1177 - val_acc: 0.5723\n",
            "\n",
            "Epoch 00059: val_loss did not improve from 1.11141\n",
            "Epoch 60/200\n",
            "224/224 [==============================] - 17s 74ms/step - loss: 1.2410 - acc: 0.5273 - val_loss: 1.1330 - val_acc: 0.5701\n",
            "\n",
            "Epoch 00060: val_loss did not improve from 1.11141\n",
            "Epoch 61/200\n",
            "224/224 [==============================] - 17s 74ms/step - loss: 1.2313 - acc: 0.5334 - val_loss: 1.1075 - val_acc: 0.5787\n",
            "\n",
            "Epoch 00061: val_loss improved from 1.11141 to 1.10751, saving model to best_model.h5\n",
            "Epoch 62/200\n",
            "224/224 [==============================] - 17s 74ms/step - loss: 1.2428 - acc: 0.5284 - val_loss: 1.1130 - val_acc: 0.5787\n",
            "\n",
            "Epoch 00062: val_loss did not improve from 1.10751\n",
            "Epoch 63/200\n",
            "224/224 [==============================] - 17s 74ms/step - loss: 1.2290 - acc: 0.5334 - val_loss: 1.1343 - val_acc: 0.5737\n",
            "\n",
            "Epoch 00063: val_loss did not improve from 1.10751\n",
            "Epoch 64/200\n",
            "224/224 [==============================] - 17s 75ms/step - loss: 1.2190 - acc: 0.5372 - val_loss: 1.1061 - val_acc: 0.5795\n",
            "\n",
            "Epoch 00064: val_loss improved from 1.10751 to 1.10614, saving model to best_model.h5\n",
            "Epoch 65/200\n",
            "224/224 [==============================] - 17s 74ms/step - loss: 1.2153 - acc: 0.5400 - val_loss: 1.1088 - val_acc: 0.5756\n",
            "\n",
            "Epoch 00065: val_loss did not improve from 1.10614\n",
            "Epoch 66/200\n",
            "224/224 [==============================] - 17s 74ms/step - loss: 1.2190 - acc: 0.5375 - val_loss: 1.1226 - val_acc: 0.5698\n",
            "\n",
            "Epoch 00066: val_loss did not improve from 1.10614\n",
            "Epoch 67/200\n",
            "224/224 [==============================] - 17s 75ms/step - loss: 1.2098 - acc: 0.5405 - val_loss: 1.0869 - val_acc: 0.5910\n",
            "\n",
            "Epoch 00067: val_loss improved from 1.10614 to 1.08694, saving model to best_model.h5\n",
            "Epoch 68/200\n",
            "224/224 [==============================] - 17s 74ms/step - loss: 1.2085 - acc: 0.5407 - val_loss: 1.1112 - val_acc: 0.5782\n",
            "\n",
            "Epoch 00068: val_loss did not improve from 1.08694\n",
            "Epoch 69/200\n",
            "224/224 [==============================] - 17s 74ms/step - loss: 1.2020 - acc: 0.5456 - val_loss: 1.1046 - val_acc: 0.5823\n",
            "\n",
            "Epoch 00069: val_loss did not improve from 1.08694\n",
            "Epoch 70/200\n",
            "224/224 [==============================] - 17s 74ms/step - loss: 1.1970 - acc: 0.5491 - val_loss: 1.0943 - val_acc: 0.5851\n",
            "\n",
            "Epoch 00070: val_loss did not improve from 1.08694\n",
            "Epoch 71/200\n",
            "224/224 [==============================] - 17s 74ms/step - loss: 1.1862 - acc: 0.5507 - val_loss: 1.0875 - val_acc: 0.5899\n",
            "\n",
            "Epoch 00071: val_loss did not improve from 1.08694\n",
            "Epoch 72/200\n",
            "224/224 [==============================] - 17s 74ms/step - loss: 1.2022 - acc: 0.5437 - val_loss: 1.0902 - val_acc: 0.5882\n",
            "\n",
            "Epoch 00072: val_loss did not improve from 1.08694\n",
            "Epoch 73/200\n",
            "224/224 [==============================] - 17s 74ms/step - loss: 1.1818 - acc: 0.5504 - val_loss: 1.1114 - val_acc: 0.5851\n",
            "\n",
            "Epoch 00073: val_loss did not improve from 1.08694\n",
            "Epoch 74/200\n",
            "224/224 [==============================] - 17s 74ms/step - loss: 1.1849 - acc: 0.5490 - val_loss: 1.0774 - val_acc: 0.5977\n",
            "\n",
            "Epoch 00074: val_loss improved from 1.08694 to 1.07735, saving model to best_model.h5\n",
            "Epoch 75/200\n",
            "224/224 [==============================] - 17s 74ms/step - loss: 1.1890 - acc: 0.5500 - val_loss: 1.0876 - val_acc: 0.5913\n",
            "\n",
            "Epoch 00075: val_loss did not improve from 1.07735\n",
            "Epoch 76/200\n",
            "224/224 [==============================] - 17s 74ms/step - loss: 1.1722 - acc: 0.5575 - val_loss: 1.0837 - val_acc: 0.5996\n",
            "\n",
            "Epoch 00076: val_loss did not improve from 1.07735\n",
            "Epoch 77/200\n",
            "224/224 [==============================] - 17s 75ms/step - loss: 1.1788 - acc: 0.5562 - val_loss: 1.0806 - val_acc: 0.5954\n",
            "\n",
            "Epoch 00077: val_loss did not improve from 1.07735\n",
            "Epoch 78/200\n",
            "224/224 [==============================] - 17s 74ms/step - loss: 1.1695 - acc: 0.5564 - val_loss: 1.0727 - val_acc: 0.5940\n",
            "\n",
            "Epoch 00078: val_loss improved from 1.07735 to 1.07273, saving model to best_model.h5\n",
            "Epoch 79/200\n",
            "224/224 [==============================] - 17s 74ms/step - loss: 1.1738 - acc: 0.5532 - val_loss: 1.0764 - val_acc: 0.5963\n",
            "\n",
            "Epoch 00079: val_loss did not improve from 1.07273\n",
            "Epoch 80/200\n",
            "224/224 [==============================] - 17s 74ms/step - loss: 1.1569 - acc: 0.5632 - val_loss: 1.0615 - val_acc: 0.6060\n",
            "\n",
            "Epoch 00080: val_loss improved from 1.07273 to 1.06146, saving model to best_model.h5\n",
            "Epoch 81/200\n",
            "224/224 [==============================] - 17s 74ms/step - loss: 1.1702 - acc: 0.5569 - val_loss: 1.0733 - val_acc: 0.5954\n",
            "\n",
            "Epoch 00081: val_loss did not improve from 1.06146\n",
            "Epoch 82/200\n",
            "224/224 [==============================] - 17s 74ms/step - loss: 1.1535 - acc: 0.5607 - val_loss: 1.0771 - val_acc: 0.6030\n",
            "\n",
            "Epoch 00082: val_loss did not improve from 1.06146\n",
            "Epoch 83/200\n",
            "224/224 [==============================] - 17s 74ms/step - loss: 1.1477 - acc: 0.5661 - val_loss: 1.0523 - val_acc: 0.6063\n",
            "\n",
            "Epoch 00083: val_loss improved from 1.06146 to 1.05232, saving model to best_model.h5\n",
            "Epoch 84/200\n",
            "224/224 [==============================] - 17s 74ms/step - loss: 1.1522 - acc: 0.5638 - val_loss: 1.0553 - val_acc: 0.6046\n",
            "\n",
            "Epoch 00084: val_loss did not improve from 1.05232\n",
            "Epoch 85/200\n",
            "224/224 [==============================] - 17s 74ms/step - loss: 1.1487 - acc: 0.5678 - val_loss: 1.0603 - val_acc: 0.6038\n",
            "\n",
            "Epoch 00085: val_loss did not improve from 1.05232\n",
            "Epoch 86/200\n",
            "224/224 [==============================] - 17s 74ms/step - loss: 1.1391 - acc: 0.5666 - val_loss: 1.0634 - val_acc: 0.6002\n",
            "\n",
            "Epoch 00086: val_loss did not improve from 1.05232\n",
            "Epoch 87/200\n",
            "224/224 [==============================] - 17s 74ms/step - loss: 1.1492 - acc: 0.5640 - val_loss: 1.0638 - val_acc: 0.6030\n",
            "\n",
            "Epoch 00087: val_loss did not improve from 1.05232\n",
            "Epoch 88/200\n",
            "224/224 [==============================] - 17s 74ms/step - loss: 1.1397 - acc: 0.5692 - val_loss: 1.0291 - val_acc: 0.6135\n",
            "\n",
            "Epoch 00088: val_loss improved from 1.05232 to 1.02910, saving model to best_model.h5\n",
            "Epoch 89/200\n",
            "224/224 [==============================] - 17s 74ms/step - loss: 1.1362 - acc: 0.5759 - val_loss: 1.0507 - val_acc: 0.6082\n",
            "\n",
            "Epoch 00089: val_loss did not improve from 1.02910\n",
            "Epoch 90/200\n",
            "224/224 [==============================] - 17s 74ms/step - loss: 1.1380 - acc: 0.5697 - val_loss: 1.0450 - val_acc: 0.6074\n",
            "\n",
            "Epoch 00090: val_loss did not improve from 1.02910\n",
            "Epoch 91/200\n",
            "224/224 [==============================] - 17s 74ms/step - loss: 1.1247 - acc: 0.5789 - val_loss: 1.0506 - val_acc: 0.6035\n",
            "\n",
            "Epoch 00091: val_loss did not improve from 1.02910\n",
            "Epoch 92/200\n",
            "224/224 [==============================] - 17s 74ms/step - loss: 1.1205 - acc: 0.5787 - val_loss: 1.0513 - val_acc: 0.6052\n",
            "\n",
            "Epoch 00092: val_loss did not improve from 1.02910\n",
            "Epoch 93/200\n",
            "224/224 [==============================] - 17s 74ms/step - loss: 1.1282 - acc: 0.5754 - val_loss: 1.0735 - val_acc: 0.5946\n",
            "\n",
            "Epoch 00093: val_loss did not improve from 1.02910\n",
            "Epoch 94/200\n",
            "224/224 [==============================] - 17s 74ms/step - loss: 1.1247 - acc: 0.5752 - val_loss: 1.0366 - val_acc: 0.6082\n",
            "\n",
            "Epoch 00094: val_loss did not improve from 1.02910\n",
            "Epoch 95/200\n",
            "224/224 [==============================] - 16s 73ms/step - loss: 1.1136 - acc: 0.5813 - val_loss: 1.0406 - val_acc: 0.6124\n",
            "\n",
            "Epoch 00095: val_loss did not improve from 1.02910\n",
            "Epoch 96/200\n",
            "224/224 [==============================] - 16s 73ms/step - loss: 1.1255 - acc: 0.5742 - val_loss: 1.0380 - val_acc: 0.6116\n",
            "\n",
            "Epoch 00096: val_loss did not improve from 1.02910\n",
            "Epoch 97/200\n",
            "224/224 [==============================] - 16s 74ms/step - loss: 1.1113 - acc: 0.5796 - val_loss: 1.0284 - val_acc: 0.6174\n",
            "\n",
            "Epoch 00097: val_loss improved from 1.02910 to 1.02844, saving model to best_model.h5\n",
            "Epoch 98/200\n",
            "224/224 [==============================] - 16s 74ms/step - loss: 1.1159 - acc: 0.5804 - val_loss: 1.0255 - val_acc: 0.6172\n",
            "\n",
            "Epoch 00098: val_loss improved from 1.02844 to 1.02550, saving model to best_model.h5\n",
            "Epoch 99/200\n",
            "224/224 [==============================] - 17s 74ms/step - loss: 1.1099 - acc: 0.5811 - val_loss: 1.0309 - val_acc: 0.6141\n",
            "\n",
            "Epoch 00099: val_loss did not improve from 1.02550\n",
            "Epoch 100/200\n",
            "224/224 [==============================] - 16s 74ms/step - loss: 1.1112 - acc: 0.5804 - val_loss: 1.0378 - val_acc: 0.6188\n",
            "\n",
            "Epoch 00100: val_loss did not improve from 1.02550\n",
            "Epoch 101/200\n",
            "224/224 [==============================] - 16s 74ms/step - loss: 1.1168 - acc: 0.5759 - val_loss: 1.0595 - val_acc: 0.6013\n",
            "\n",
            "Epoch 00101: val_loss did not improve from 1.02550\n",
            "Epoch 102/200\n",
            "224/224 [==============================] - 16s 74ms/step - loss: 1.1089 - acc: 0.5800 - val_loss: 1.0340 - val_acc: 0.6121\n",
            "\n",
            "Epoch 00102: val_loss did not improve from 1.02550\n",
            "Epoch 103/200\n",
            "224/224 [==============================] - 16s 73ms/step - loss: 1.1040 - acc: 0.5823 - val_loss: 1.0391 - val_acc: 0.6166\n",
            "\n",
            "Epoch 00103: val_loss did not improve from 1.02550\n",
            "Epoch 104/200\n",
            "224/224 [==============================] - 16s 73ms/step - loss: 1.1026 - acc: 0.5852 - val_loss: 1.0268 - val_acc: 0.6191\n",
            "\n",
            "Epoch 00104: val_loss did not improve from 1.02550\n",
            "Epoch 105/200\n",
            "224/224 [==============================] - 16s 73ms/step - loss: 1.0970 - acc: 0.5871 - val_loss: 1.0248 - val_acc: 0.6138\n",
            "\n",
            "Epoch 00105: val_loss improved from 1.02550 to 1.02481, saving model to best_model.h5\n",
            "Epoch 106/200\n",
            "224/224 [==============================] - 16s 73ms/step - loss: 1.0919 - acc: 0.5880 - val_loss: 1.0312 - val_acc: 0.6105\n",
            "\n",
            "Epoch 00106: val_loss did not improve from 1.02481\n",
            "Epoch 107/200\n",
            "224/224 [==============================] - 16s 73ms/step - loss: 1.0965 - acc: 0.5868 - val_loss: 1.0232 - val_acc: 0.6172\n",
            "\n",
            "Epoch 00107: val_loss improved from 1.02481 to 1.02317, saving model to best_model.h5\n",
            "Epoch 108/200\n",
            "224/224 [==============================] - 16s 73ms/step - loss: 1.0951 - acc: 0.5861 - val_loss: 1.0224 - val_acc: 0.6163\n",
            "\n",
            "Epoch 00108: val_loss improved from 1.02317 to 1.02239, saving model to best_model.h5\n",
            "Epoch 109/200\n",
            "224/224 [==============================] - 16s 73ms/step - loss: 1.0859 - acc: 0.5913 - val_loss: 1.0188 - val_acc: 0.6133\n",
            "\n",
            "Epoch 00109: val_loss improved from 1.02239 to 1.01876, saving model to best_model.h5\n",
            "Epoch 110/200\n",
            "224/224 [==============================] - 17s 74ms/step - loss: 1.0904 - acc: 0.5871 - val_loss: 1.0311 - val_acc: 0.6158\n",
            "\n",
            "Epoch 00110: val_loss did not improve from 1.01876\n",
            "Epoch 111/200\n",
            "224/224 [==============================] - 16s 73ms/step - loss: 1.0895 - acc: 0.5851 - val_loss: 1.0238 - val_acc: 0.6202\n",
            "\n",
            "Epoch 00111: val_loss did not improve from 1.01876\n",
            "Epoch 112/200\n",
            "224/224 [==============================] - 16s 73ms/step - loss: 1.0823 - acc: 0.5904 - val_loss: 1.0200 - val_acc: 0.6216\n",
            "\n",
            "Epoch 00112: val_loss did not improve from 1.01876\n",
            "Epoch 113/200\n",
            "224/224 [==============================] - 16s 73ms/step - loss: 1.0832 - acc: 0.5922 - val_loss: 1.0191 - val_acc: 0.6205\n",
            "\n",
            "Epoch 00113: val_loss did not improve from 1.01876\n",
            "Epoch 114/200\n",
            "224/224 [==============================] - 16s 73ms/step - loss: 1.0887 - acc: 0.5896 - val_loss: 1.0269 - val_acc: 0.6110\n",
            "\n",
            "Epoch 00114: val_loss did not improve from 1.01876\n",
            "Epoch 115/200\n",
            "224/224 [==============================] - 16s 73ms/step - loss: 1.0827 - acc: 0.5904 - val_loss: 1.0186 - val_acc: 0.6186\n",
            "\n",
            "Epoch 00115: val_loss improved from 1.01876 to 1.01862, saving model to best_model.h5\n",
            "Epoch 116/200\n",
            "224/224 [==============================] - 16s 73ms/step - loss: 1.0678 - acc: 0.6003 - val_loss: 1.0258 - val_acc: 0.6208\n",
            "\n",
            "Epoch 00116: val_loss did not improve from 1.01862\n",
            "Epoch 117/200\n",
            "224/224 [==============================] - 16s 73ms/step - loss: 1.0682 - acc: 0.5940 - val_loss: 1.0236 - val_acc: 0.6158\n",
            "\n",
            "Epoch 00117: val_loss did not improve from 1.01862\n",
            "Epoch 118/200\n",
            "224/224 [==============================] - 16s 73ms/step - loss: 1.0716 - acc: 0.5952 - val_loss: 0.9990 - val_acc: 0.6252\n",
            "\n",
            "Epoch 00118: val_loss improved from 1.01862 to 0.99904, saving model to best_model.h5\n",
            "Epoch 119/200\n",
            "224/224 [==============================] - 16s 73ms/step - loss: 1.0640 - acc: 0.5974 - val_loss: 1.0043 - val_acc: 0.6239\n",
            "\n",
            "Epoch 00119: val_loss did not improve from 0.99904\n",
            "Epoch 120/200\n",
            "224/224 [==============================] - 16s 73ms/step - loss: 1.0776 - acc: 0.5933 - val_loss: 1.0082 - val_acc: 0.6202\n",
            "\n",
            "Epoch 00120: val_loss did not improve from 0.99904\n",
            "Epoch 121/200\n",
            "224/224 [==============================] - 16s 73ms/step - loss: 1.0619 - acc: 0.5987 - val_loss: 1.0099 - val_acc: 0.6239\n",
            "\n",
            "Epoch 00121: val_loss did not improve from 0.99904\n",
            "Epoch 122/200\n",
            "224/224 [==============================] - 16s 73ms/step - loss: 1.0622 - acc: 0.5982 - val_loss: 0.9923 - val_acc: 0.6286\n",
            "\n",
            "Epoch 00122: val_loss improved from 0.99904 to 0.99228, saving model to best_model.h5\n",
            "Epoch 123/200\n",
            "224/224 [==============================] - 16s 73ms/step - loss: 1.0679 - acc: 0.5977 - val_loss: 1.0075 - val_acc: 0.6241\n",
            "\n",
            "Epoch 00123: val_loss did not improve from 0.99228\n",
            "Epoch 124/200\n",
            "224/224 [==============================] - 16s 73ms/step - loss: 1.0623 - acc: 0.6000 - val_loss: 1.0031 - val_acc: 0.6261\n",
            "\n",
            "Epoch 00124: val_loss did not improve from 0.99228\n",
            "Epoch 125/200\n",
            "224/224 [==============================] - 16s 72ms/step - loss: 1.0559 - acc: 0.5983 - val_loss: 1.0211 - val_acc: 0.6163\n",
            "\n",
            "Epoch 00125: val_loss did not improve from 0.99228\n",
            "Epoch 126/200\n",
            "224/224 [==============================] - 16s 73ms/step - loss: 1.0621 - acc: 0.6002 - val_loss: 1.0014 - val_acc: 0.6250\n",
            "\n",
            "Epoch 00126: val_loss did not improve from 0.99228\n",
            "Epoch 127/200\n",
            "224/224 [==============================] - 16s 73ms/step - loss: 1.0630 - acc: 0.6009 - val_loss: 0.9847 - val_acc: 0.6314\n",
            "\n",
            "Epoch 00127: val_loss improved from 0.99228 to 0.98474, saving model to best_model.h5\n",
            "Epoch 128/200\n",
            "224/224 [==============================] - 16s 73ms/step - loss: 1.0489 - acc: 0.6055 - val_loss: 1.0185 - val_acc: 0.6250\n",
            "\n",
            "Epoch 00128: val_loss did not improve from 0.98474\n",
            "Epoch 129/200\n",
            "224/224 [==============================] - 16s 73ms/step - loss: 1.0528 - acc: 0.6047 - val_loss: 0.9919 - val_acc: 0.6283\n",
            "\n",
            "Epoch 00129: val_loss did not improve from 0.98474\n",
            "Epoch 130/200\n",
            "224/224 [==============================] - 16s 73ms/step - loss: 1.0500 - acc: 0.6059 - val_loss: 0.9920 - val_acc: 0.6278\n",
            "\n",
            "Epoch 00130: val_loss did not improve from 0.98474\n",
            "Epoch 131/200\n",
            "224/224 [==============================] - 16s 73ms/step - loss: 1.0436 - acc: 0.6056 - val_loss: 0.9930 - val_acc: 0.6258\n",
            "\n",
            "Epoch 00131: val_loss did not improve from 0.98474\n",
            "Epoch 132/200\n",
            "224/224 [==============================] - 16s 73ms/step - loss: 1.0449 - acc: 0.6080 - val_loss: 1.0107 - val_acc: 0.6211\n",
            "\n",
            "Epoch 00132: val_loss did not improve from 0.98474\n",
            "Epoch 133/200\n",
            "224/224 [==============================] - 16s 73ms/step - loss: 1.0484 - acc: 0.6063 - val_loss: 0.9953 - val_acc: 0.6264\n",
            "\n",
            "Epoch 00133: val_loss did not improve from 0.98474\n",
            "Epoch 134/200\n",
            "224/224 [==============================] - 16s 73ms/step - loss: 1.0409 - acc: 0.6079 - val_loss: 0.9973 - val_acc: 0.6258\n",
            "\n",
            "Epoch 00134: val_loss did not improve from 0.98474\n",
            "Epoch 135/200\n",
            "224/224 [==============================] - 16s 73ms/step - loss: 1.0437 - acc: 0.6073 - val_loss: 0.9800 - val_acc: 0.6381\n",
            "\n",
            "Epoch 00135: val_loss improved from 0.98474 to 0.97997, saving model to best_model.h5\n",
            "Epoch 136/200\n",
            "224/224 [==============================] - 16s 73ms/step - loss: 1.0373 - acc: 0.6107 - val_loss: 0.9942 - val_acc: 0.6247\n",
            "\n",
            "Epoch 00136: val_loss did not improve from 0.97997\n",
            "Epoch 137/200\n",
            "224/224 [==============================] - 16s 73ms/step - loss: 1.0433 - acc: 0.6068 - val_loss: 1.0012 - val_acc: 0.6264\n",
            "\n",
            "Epoch 00137: val_loss did not improve from 0.97997\n",
            "Epoch 138/200\n",
            "224/224 [==============================] - 16s 73ms/step - loss: 1.0373 - acc: 0.6090 - val_loss: 1.0017 - val_acc: 0.6289\n",
            "\n",
            "Epoch 00138: val_loss did not improve from 0.97997\n",
            "Epoch 139/200\n",
            "224/224 [==============================] - 16s 73ms/step - loss: 1.0337 - acc: 0.6105 - val_loss: 0.9965 - val_acc: 0.6244\n",
            "\n",
            "Epoch 00139: val_loss did not improve from 0.97997\n",
            "Epoch 140/200\n",
            "224/224 [==============================] - 16s 73ms/step - loss: 1.0306 - acc: 0.6119 - val_loss: 0.9936 - val_acc: 0.6300\n",
            "\n",
            "Epoch 00140: val_loss did not improve from 0.97997\n",
            "Epoch 141/200\n",
            "224/224 [==============================] - 16s 73ms/step - loss: 1.0292 - acc: 0.6115 - val_loss: 0.9666 - val_acc: 0.6386\n",
            "\n",
            "Epoch 00141: val_loss improved from 0.97997 to 0.96656, saving model to best_model.h5\n",
            "Epoch 142/200\n",
            "224/224 [==============================] - 16s 73ms/step - loss: 1.0382 - acc: 0.6074 - val_loss: 0.9824 - val_acc: 0.6336\n",
            "\n",
            "Epoch 00142: val_loss did not improve from 0.96656\n",
            "Epoch 143/200\n",
            "224/224 [==============================] - 16s 73ms/step - loss: 1.0332 - acc: 0.6136 - val_loss: 0.9746 - val_acc: 0.6383\n",
            "\n",
            "Epoch 00143: val_loss did not improve from 0.96656\n",
            "Epoch 144/200\n",
            "224/224 [==============================] - 16s 73ms/step - loss: 1.0253 - acc: 0.6158 - val_loss: 0.9894 - val_acc: 0.6269\n",
            "\n",
            "Epoch 00144: val_loss did not improve from 0.96656\n",
            "Epoch 145/200\n",
            "224/224 [==============================] - 16s 73ms/step - loss: 1.0279 - acc: 0.6102 - val_loss: 0.9840 - val_acc: 0.6294\n",
            "\n",
            "Epoch 00145: val_loss did not improve from 0.96656\n",
            "Epoch 146/200\n",
            "224/224 [==============================] - 16s 73ms/step - loss: 1.0313 - acc: 0.6115 - val_loss: 0.9861 - val_acc: 0.6266\n",
            "\n",
            "Epoch 00146: val_loss did not improve from 0.96656\n",
            "Epoch 147/200\n",
            "224/224 [==============================] - 16s 73ms/step - loss: 1.0234 - acc: 0.6159 - val_loss: 0.9774 - val_acc: 0.6336\n",
            "\n",
            "Epoch 00147: val_loss did not improve from 0.96656\n",
            "Epoch 148/200\n",
            "224/224 [==============================] - 16s 73ms/step - loss: 1.0170 - acc: 0.6144 - val_loss: 1.0190 - val_acc: 0.6233\n",
            "\n",
            "Epoch 00148: val_loss did not improve from 0.96656\n",
            "Epoch 149/200\n",
            "224/224 [==============================] - 16s 73ms/step - loss: 1.0263 - acc: 0.6133 - val_loss: 0.9699 - val_acc: 0.6344\n",
            "\n",
            "Epoch 00149: val_loss did not improve from 0.96656\n",
            "Epoch 150/200\n",
            "224/224 [==============================] - 16s 73ms/step - loss: 1.0193 - acc: 0.6160 - val_loss: 0.9678 - val_acc: 0.6364\n",
            "\n",
            "Epoch 00150: val_loss did not improve from 0.96656\n",
            "Epoch 151/200\n",
            "224/224 [==============================] - 16s 73ms/step - loss: 1.0229 - acc: 0.6167 - val_loss: 0.9760 - val_acc: 0.6305\n",
            "\n",
            "Epoch 00151: val_loss did not improve from 0.96656\n",
            "Restoring model weights from the end of the best epoch\n",
            "Epoch 00151: early stopping\n"
          ],
          "name": "stdout"
        }
      ]
    },
    {
      "cell_type": "code",
      "metadata": {
        "id": "VWhfyIqudmzj",
        "colab_type": "code",
        "colab": {}
      },
      "source": [
        "preds=model.predict_classes(X_tests)"
      ],
      "execution_count": 0,
      "outputs": []
    },
    {
      "cell_type": "code",
      "metadata": {
        "id": "ztjmNhDy1X3j",
        "colab_type": "code",
        "outputId": "21ff3f19-7407-41b5-a1ef-11df9ea14719",
        "colab": {
          "base_uri": "https://localhost:8080/",
          "height": 362
        }
      },
      "source": [
        "print('predicted : '+ str(label_dict[preds[10]]))\n",
        "readImg(X_tests[10]/255.0,Y_test[10])"
      ],
      "execution_count": 0,
      "outputs": [
        {
          "output_type": "stream",
          "text": [
            "predicted : happiness\n"
          ],
          "name": "stdout"
        },
        {
          "output_type": "display_data",
          "data": {
            "image/png": "[encoded data removed]",
            "text/plain": [
              "<Figure size 576x396 with 1 Axes>"
            ]
          },
          "metadata": {
            "tags": []
          }
        }
      ]
    },
    {
      "cell_type": "code",
      "metadata": {
        "id": "FJdwH7wZ1nXZ",
        "colab_type": "code",
        "outputId": "3fcb32fb-36ac-442b-a4fe-4e23bef0ae76",
        "colab": {
          "base_uri": "https://localhost:8080/",
          "height": 362
        }
      },
      "source": [
        "print('predicted : '+ str(label_dict[preds[11]]))\n",
        "readImg(X_tests[11]/255.0,Y_test[11])"
      ],
      "execution_count": 0,
      "outputs": [
        {
          "output_type": "stream",
          "text": [
            "predicted : anger\n"
          ],
          "name": "stdout"
        },
        {
          "output_type": "display_data",
          "data": {
            "image/png": "[encoded data removed]",
            "text/plain": [
              "<Figure size 576x396 with 1 Axes>"
            ]
          },
          "metadata": {
            "tags": []
          }
        }
      ]
    },
    {
      "cell_type": "code",
      "metadata": {
        "id": "BuBj6Dm117iE",
        "colab_type": "code",
        "outputId": "2256bb71-365e-40fa-87a2-69c8acc50512",
        "colab": {
          "base_uri": "https://localhost:8080/",
          "height": 362
        }
      },
      "source": [
        "print('predicted : '+ str(label_dict[preds[29]]))\n",
        "readImg(X_tests[29]/255.0,Y_test[29])"
      ],
      "execution_count": 0,
      "outputs": [
        {
          "output_type": "stream",
          "text": [
            "predicted : surprise\n"
          ],
          "name": "stdout"
        },
        {
          "output_type": "display_data",
          "data": {
            "image/png": "[encoded data removed]",
            "text/plain": [
              "<Figure size 576x396 with 1 Axes>"
            ]
          },
          "metadata": {
            "tags": []
          }
        }
      ]
    },
    {
      "cell_type": "code",
      "metadata": {
        "id": "f-uvX1Cr2CiR",
        "colab_type": "code",
        "outputId": "b31f7b8f-3f9d-41f8-faa7-c7f8c89d44f3",
        "colab": {
          "base_uri": "https://localhost:8080/",
          "height": 362
        }
      },
      "source": [
        "print('predicted : '+ str(label_dict[preds[45]]))\n",
        "readImg(X_tests[45]/255.0,Y_test[45])"
      ],
      "execution_count": 0,
      "outputs": [
        {
          "output_type": "stream",
          "text": [
            "predicted : happiness\n"
          ],
          "name": "stdout"
        },
        {
          "output_type": "display_data",
          "data": {
            "image/png": "[encoded data removed]",
            "text/plain": [
              "<Figure size 576x396 with 1 Axes>"
            ]
          },
          "metadata": {
            "tags": []
          }
        }
      ]
    },
    {
      "cell_type": "code",
      "metadata": {
        "id": "PhOjQ0Kx2Gmh",
        "colab_type": "code",
        "outputId": "e765fefd-7c4c-454d-a4ff-0d725d60aa58",
        "colab": {
          "base_uri": "https://localhost:8080/",
          "height": 362
        }
      },
      "source": [
        "print('predicted : '+ str(label_dict[preds[23]]))\n",
        "readImg(X_tests[23]/255.0,Y_test[23])"
      ],
      "execution_count": 0,
      "outputs": [
        {
          "output_type": "stream",
          "text": [
            "predicted : sadness\n"
          ],
          "name": "stdout"
        },
        {
          "output_type": "display_data",
          "data": {
            "image/png": "[encoded data removed]",
            "text/plain": [
              "<Figure size 576x396 with 1 Axes>"
            ]
          },
          "metadata": {
            "tags": []
          }
        }
      ]
    },
    {
      "cell_type": "code",
      "metadata": {
        "id": "6SIO6gp92KxJ",
        "colab_type": "code",
        "outputId": "cf956397-c384-480a-d4f6-49e988f7309a",
        "colab": {
          "base_uri": "https://localhost:8080/",
          "height": 362
        }
      },
      "source": [
        "print('predicted : '+ str(label_dict[preds[19]]))\n",
        "readImg(X_tests[19]/255.0,Y_test[19])"
      ],
      "execution_count": 0,
      "outputs": [
        {
          "output_type": "stream",
          "text": [
            "predicted : happiness\n"
          ],
          "name": "stdout"
        },
        {
          "output_type": "display_data",
          "data": {
            "image/png": "[encoded data removed]",
            "text/plain": [
              "<Figure size 576x396 with 1 Axes>"
            ]
          },
          "metadata": {
            "tags": []
          }
        }
      ]
    },
    {
      "cell_type": "code",
      "metadata": {
        "id": "84fZfe7C2PG0",
        "colab_type": "code",
        "outputId": "eed78757-d127-4272-e94c-64842a92a164",
        "colab": {
          "base_uri": "https://localhost:8080/",
          "height": 362
        }
      },
      "source": [
        "print('predicted : '+ str(label_dict[preds[39]]))\n",
        "readImg(X_tests[39]/255.0,Y_test[39])"
      ],
      "execution_count": 0,
      "outputs": [
        {
          "output_type": "stream",
          "text": [
            "predicted : happiness\n"
          ],
          "name": "stdout"
        },
        {
          "output_type": "display_data",
          "data": {
            "image/png": "[encoded data removed]",
            "text/plain": [
              "<Figure size 576x396 with 1 Axes>"
            ]
          },
          "metadata": {
            "tags": []
          }
        }
      ]
    },
    {
      "cell_type": "code",
      "metadata": {
        "id": "OXqWlXZd2mSB",
        "colab_type": "code",
        "outputId": "6f8ccfd0-f4ed-4868-c582-6b0860fcd3a3",
        "colab": {
          "base_uri": "https://localhost:8080/",
          "height": 362
        }
      },
      "source": [
        "print('predicted : '+ str(label_dict[preds[59]]))\n",
        "readImg(X_tests[59]/255.0,Y_test[59])"
      ],
      "execution_count": 0,
      "outputs": [
        {
          "output_type": "stream",
          "text": [
            "predicted : happiness\n"
          ],
          "name": "stdout"
        },
        {
          "output_type": "display_data",
          "data": {
            "image/png": "[encoded data removed]",
            "text/plain": [
              "<Figure size 576x396 with 1 Axes>"
            ]
          },
          "metadata": {
            "tags": []
          }
        }
      ]
    },
    {
      "cell_type": "code",
      "metadata": {
        "id": "bo1Jdf3b53i8",
        "colab_type": "code",
        "outputId": "0809fc6f-4c4c-4ae3-b74a-7fdb27227107",
        "colab": {
          "base_uri": "https://localhost:8080/",
          "height": 362
        }
      },
      "source": [
        "print('predicted : '+ str(label_dict[preds[94]]))\n",
        "readImg(X_tests[94]/255.0,Y_test[94])"
      ],
      "execution_count": 0,
      "outputs": [
        {
          "output_type": "stream",
          "text": [
            "predicted : anger\n"
          ],
          "name": "stdout"
        },
        {
          "output_type": "display_data",
          "data": {
            "image/png": "[encoded data removed]",
            "text/plain": [
              "<Figure size 576x396 with 1 Axes>"
            ]
          },
          "metadata": {
            "tags": []
          }
        }
      ]
    },
    {
      "cell_type": "code",
      "metadata": {
        "id": "AG7jEzxW5-L8",
        "colab_type": "code",
        "outputId": "0cf67b1a-b090-4b1c-ad72-7b14b2356e11",
        "colab": {
          "base_uri": "https://localhost:8080/",
          "height": 362
        }
      },
      "source": [
        "print('predicted : '+ str(label_dict[preds[75]]))\n",
        "readImg(X_tests[75]/255.0,Y_test[75])"
      ],
      "execution_count": 0,
      "outputs": [
        {
          "output_type": "stream",
          "text": [
            "predicted : neutral\n"
          ],
          "name": "stdout"
        },
        {
          "output_type": "display_data",
          "data": {
            "image/png": "[encoded data removed]",
            "text/plain": [
              "<Figure size 576x396 with 1 Axes>"
            ]
          },
          "metadata": {
            "tags": []
          }
        }
      ]
    },
    {
      "cell_type": "code",
      "metadata": {
        "id": "g7q9sLsu6D8F",
        "colab_type": "code",
        "outputId": "acab5573-fc78-40c9-8267-7bba045a91a4",
        "colab": {
          "base_uri": "https://localhost:8080/",
          "height": 362
        }
      },
      "source": [
        "print('predicted : '+ str(label_dict[preds[105]]))\n",
        "readImg(X_tests[105]/255.0,Y_test[105])"
      ],
      "execution_count": 0,
      "outputs": [
        {
          "output_type": "stream",
          "text": [
            "predicted : happiness\n"
          ],
          "name": "stdout"
        },
        {
          "output_type": "display_data",
          "data": {
            "image/png": "[encoded data removed]",
            "text/plain": [
              "<Figure size 576x396 with 1 Axes>"
            ]
          },
          "metadata": {
            "tags": []
          }
        }
      ]
    },
    {
      "cell_type": "code",
      "metadata": {
        "id": "EFAvhSEe6I0K",
        "colab_type": "code",
        "colab": {}
      },
      "source": [
        ""
      ],
      "execution_count": 0,
      "outputs": []
    }
  ]
}